{
 "cells": [
  {
   "cell_type": "code",
   "execution_count": 1,
   "metadata": {},
   "outputs": [],
   "source": [
    "import pandas as pd\n",
    "import numpy as np\n",
    "import matplotlib.pyplot as plt"
   ]
  },
  {
   "cell_type": "code",
   "execution_count": 2,
   "metadata": {},
   "outputs": [],
   "source": [
    "Eads_df = pd.read_csv('A1_E_ads.csv')\n",
    "first_col = list(Eads_df.iloc[:,0])\n",
    "\n",
    "Eads_df = Eads_df.set_index('Arrangements')\n"
   ]
  },
  {
   "cell_type": "code",
   "execution_count": 3,
   "metadata": {},
   "outputs": [
    {
     "name": "stdout",
     "output_type": "stream",
     "text": [
      "['NiNiNi', 'CrCrCr', 'FeFeFe', 'MoMoMo', 'WWW', 'NiNiCr', 'NiNiFe', 'NiNiMo', 'NiNiW', 'CrCrNi', 'CrCrFe', 'CrCrMo', 'CrCrW', 'FeFeNi', 'FeFeCr', 'FeFeMo', 'FeFeW', 'MoMoNi', 'MoMoCr', 'MoMoFe', 'MoMoW', 'WWNi', 'WWCr', 'WWFe', 'WWMo', 'NiCrFe', 'NiCrMo', 'NiCrW', 'NiFeMo', 'NiFeW', 'NiMoW', 'CrFeMo', 'CrFeW', 'CrMoW', 'FeMoW']\n",
      "[0.13265100000000002, 0.009260999999999998, 0.008000000000000002, 0.00021599999999999996, 8.000000000000001e-06, 0.16386299999999998, 0.15606, 0.046818, 0.015606, 0.06747299999999999, 0.026459999999999997, 0.007937999999999999, 0.0026459999999999995, 0.06120000000000002, 0.025200000000000004, 0.007200000000000001, 0.0024000000000000002, 0.005508, 0.002268, 0.00216, 0.000216, 0.0006120000000000001, 0.000252, 0.00024000000000000003, 7.2e-05, 0.12852000000000002, 0.03855599999999999, 0.012852000000000002, 0.03672, 0.012240000000000001, 0.003672, 0.015120000000000001, 0.00504, 0.0015119999999999997, 0.00144]\n"
     ]
    }
   ],
   "source": [
    "## when passing in alloying elements, the order MUST be the same given in the database_elements!!!\n",
    "database_elements = ['Ni','Cr','Fe','Mo','W','Al','Mn','Cu']\n",
    "\n",
    "## Test alloy A1\n",
    "alloy_composition = {'Ni': 0.51, 'Cr': 0.21, 'Fe':0.20 ,'Mo': 0.06, 'W': 0.02}\n",
    "\n",
    "## this block of code enumerates all elemental arrangements and computes their associated probabilities\n",
    "ele_list = []\n",
    "conc_list = []\n",
    "\n",
    "for ele, conc in alloy_composition.items():\n",
    "    ele_list.append(ele)\n",
    "    conc_list.append(conc)\n",
    "\n",
    "one = []\n",
    "one_prob_list = []\n",
    "two = []\n",
    "two_prob_list = []\n",
    "three = []\n",
    "three_prob_list = []\n",
    "position_index = list(range(len(ele_list)))\n",
    "\n",
    "\n",
    "for i in ele_list:\n",
    "    one.append(i+i+i)\n",
    "\n",
    "one_prob_list = [n**3 for n in conc_list]\n",
    "\n",
    "\n",
    "\n",
    "for i in ele_list:\n",
    "    for j in ele_list:\n",
    "        if i == j:\n",
    "            continue\n",
    "        else:\n",
    "            two.append(i+i+j)\n",
    "            two_prob_list.append(alloy_composition[i] * alloy_composition[i] * alloy_composition[j]*3 )       \n",
    "\n",
    "            \n",
    "for i in position_index:\n",
    "    for j in position_index:\n",
    "        if j <= i:\n",
    "            continue\n",
    "        for k in position_index:\n",
    "            if k <= j:\n",
    "                continue\n",
    "            else:\n",
    "                three.append(ele_list[i] + ele_list[j] + ele_list[k])\n",
    "                three_prob_list.append(conc_list[i]*conc_list[j]*conc_list[k]*6)\n",
    "\n",
    "\n",
    "total_arrangements = one + two + three\n",
    "total_prob = one_prob_list + two_prob_list + three_prob_list\n",
    "# Sanity check: total probability sums up to unity\n",
    "print(total_arrangements)\n",
    "print(total_prob)"
   ]
  },
  {
   "cell_type": "code",
   "execution_count": 4,
   "metadata": {},
   "outputs": [],
   "source": [
    "def CompetitiveAdsorption(Evec,U,pH,Cl,T):\n",
    "    '''Only Difference from the MatLab function is \n",
    "    in that probability of elemental arrangements is taken into account at the end'''\n",
    "    \n",
    "    # Zero Point Energies (eV)\n",
    "    ZPE_W =  0.63\n",
    "    ZPE_Cl2 = 0.04\n",
    "    ZPE_H2 = 0.29\n",
    "\n",
    "    ZPE_W = 0.00 - ZPE_W\n",
    "    ZPE_OH = 0.00 - ZPE_W - ZPE_H2/2\n",
    "    ZPE_O = 0.00 - ZPE_W - ZPE_H2\n",
    "    ZPE_Cl = 0.00 - ZPE_Cl2/2 \n",
    "    ZPE_H = 0.00 - ZPE_H2/2\n",
    "\n",
    "    # Integrated heat capacity (eV)\n",
    "    Cp_W = 0.10\n",
    "    Cp_Cl2 = 0.10\n",
    "    Cp_H2 = 0.09\n",
    "\n",
    "    # Entropy at 298.15K (eV/K)\n",
    "    S_W = 1.96E-3\n",
    "    S_Cl2 = 2.31E-3\n",
    "    S_H2 = 1.36E-3\n",
    "    \n",
    "    # Reference potentials\n",
    "    U0_H2 = 0.00\n",
    "    U0_Cl = 1.36\n",
    "    \n",
    "    # Evec is the adsorption energy vector associated with A particular arrangement (e.g. NiNiNi)\n",
    "    E_O = Evec[0]\n",
    "    E_Cl = Evec[1]\n",
    "    E_OH = Evec[2]\n",
    "    E_W = Evec[3]\n",
    "    E_H = Evec[4]\n",
    "    probability = Evec[5] #arrangements probabilities are stored in the 6th column of later defined array_temp\n",
    "    \n",
    "    G_W = E_W + ZPE_W - Cp_W + T * S_W\n",
    "    G_OH = E_OH + ZPE_OH - (Cp_W - Cp_H2/2) + T * (S_W - S_H2/2)\n",
    "    G_O = E_O + ZPE_O - (Cp_W - Cp_H2) + T *(S_W - S_H2)\n",
    "    G_Cl = E_Cl + ZPE_Cl - Cp_Cl2/2 + T * S_Cl2/2\n",
    "    G_H = E_H + ZPE_H - Cp_H2/2 + T * S_H2/2 \n",
    "    \n",
    "    R = 8.617E-5\n",
    "    K_W = np.exp(-G_W/R/T)\n",
    "    K_OH = np.exp(-G_OH/R/T)\n",
    "    K_O = np.exp(-G_O/R/T)\n",
    "    K_Cl = np.exp(-G_Cl/R/T)\n",
    "    K_H = np.exp(-G_H/R/T)\n",
    "    \n",
    "    C_H = 10**(-pH) # compute activity of [H+], given the pH\n",
    "    \n",
    "    # matrix A dot Theta = C\n",
    "    # Solve for Theta\n",
    "    \n",
    "    A = np.array([[C_H**2*np.exp(-2*(U-U0_H2)/R/T),0,0,0,0,-K_O],\n",
    "        [0,np.exp(-(U-U0_Cl)/R/T),0,0,0,-K_Cl*Cl],\n",
    "        [0,0,np.exp(-(U-U0_H2)/R/T)*C_H,0,0,-K_OH],\n",
    "        [0,0,0,1,0,-K_W],\n",
    "        [0,0,0,0,1,-K_H*C_H*np.exp(-(U-U0_H2)/R/T)],\n",
    "        [1,1,1,1,1,1]])\n",
    "    \n",
    "    C = np.array([[0],\n",
    "                  [0],\n",
    "                 [0],\n",
    "                 [0],\n",
    "                 [0],\n",
    "                 [1]])\n",
    "\n",
    "    Theta_tmp = np.linalg.solve(A, C)\n",
    "    Theta = Theta_tmp * probability \n",
    "    return Theta"
   ]
  },
  {
   "cell_type": "code",
   "execution_count": 5,
   "metadata": {},
   "outputs": [
    {
     "name": "stdout",
     "output_type": "stream",
     "text": [
      "        E_ads_O  E_ads_Cl  E_ads_OH  E_ads_H2O   E_ads_H  probabilities\n",
      "NiNiNi  0.26066  -2.10639  -0.03994       -0.6 -0.497683       0.132651\n",
      "CrCrCr -1.92860  -3.16845  -1.78870       -0.6 -1.071506       0.009261\n",
      "FeFeFe -0.63995  -2.47865  -0.78890       -0.6 -0.589511       0.008000\n",
      "MoMoMo -1.27180  -2.71085  -1.16240       -0.6 -0.713650       0.000216\n",
      "WWW    -1.30860  -3.04555  -1.18875       -0.6  2.863061       0.000008\n",
      "NiNiCr -1.11430  -2.40735  -0.56600       -0.6 -0.635938       0.163863\n",
      "NiNiFe -0.15740  -2.25745  -0.31300       -0.6 -0.597641       0.156060\n",
      "NiNiMo -0.41350  -1.99185  -0.19640       -0.6 -0.530208       0.046818\n",
      "NiNiW  -0.79300  -2.08145  -0.43540       -0.6 -0.463177       0.015606\n",
      "CrCrNi -1.03710  -2.59665  -1.02660       -0.6 -0.630884       0.067473\n",
      "CrCrFe -1.57805  -2.79765  -1.58690       -0.6 -0.695300       0.026460\n",
      "CrCrMo -1.72830  -2.95965  -1.47000       -0.6 -0.834793       0.007938\n",
      "CrCrW  -1.60580  -2.64815  -1.26690       -0.6 -0.794596       0.002646\n",
      "FeFeNi -0.61450  -2.41200  -0.82760       -0.6 -0.764590       0.061200\n",
      "FeFeCr -1.13920  -2.61700  -0.99610       -0.6 -0.644259       0.025200\n",
      "FeFeMo -1.03380  -2.03455  -0.86600       -0.6 -0.665704       0.007200\n",
      "FeFeW  -1.14310  -2.44175  -0.85650       -0.6 -0.673647       0.002400\n",
      "MoMoNi -0.84030  -2.53875  -0.99420       -0.6 -0.535944       0.005508\n",
      "MoMoCr -1.37260  -2.68135  -1.20880       -0.6 -0.687452       0.002268\n",
      "MoMoFe -1.12510  -2.54585  -0.84060       -0.6 -0.584166       0.002160\n",
      "MoMoW  -1.30670  -2.57415  -1.05470       -0.6 -0.659462       0.000216\n",
      "WWNi   -0.25935  -2.11000  -0.27895       -0.6 -0.533320       0.000612\n",
      "WWCr   -1.53840  -2.65295  -1.20550       -0.6 -0.841143       0.000252\n",
      "WWFe   -1.28270  -2.41645  -0.91248       -0.6 -0.631709       0.000240\n",
      "WWMo   -1.31580  -2.46935  -0.94350       -0.6 -0.626873       0.000072\n",
      "NiCrFe -1.20060  -2.81515  -1.12570       -0.6 -1.013021       0.128520\n",
      "NiCrMo -0.93140  -2.48415  -0.89760       -0.6 -0.608395       0.038556\n",
      "NiCrW  -1.13940  -2.42095  -0.88580       -0.6 -0.608263       0.012852\n",
      "NiFeMo -0.80280  -2.19890  -0.68110       -0.6 -0.554352       0.036720\n",
      "NiFeW  -0.85870  -2.10555  -0.46710       -0.6 -0.392913       0.012240\n",
      "NiMoW  -0.96190  -2.47335  -1.03690       -0.6 -0.535791       0.003672\n",
      "CrFeMo -1.27750  -2.72865  -1.06440       -0.6 -0.822593       0.015120\n",
      "CrFeW  -1.41020  -2.70365  -1.02200       -0.6 -0.747252       0.005040\n",
      "CrMoW  -1.44700  -2.68785  -1.22730       -0.6 -0.748987       0.001512\n",
      "FeMoW  -1.21150  -2.42365  -0.92300       -0.6 -0.624000       0.001440\n"
     ]
    }
   ],
   "source": [
    "arrangement_to_prob = dict(zip(total_arrangements,total_prob))\n",
    "df_temp_probability = pd.DataFrame.from_dict(arrangement_to_prob,orient='index',columns=['probabilities'])\n",
    "\n",
    "#df_temp_probability.loc['NiNiNi']\n",
    "\n",
    "temp_Eads = {} \n",
    "\n",
    "for i in total_arrangements:\n",
    "    if i in first_col:\n",
    "        temp_Eads.update({i : Eads_df.loc[i]})\n",
    "    else:\n",
    "        print(f'{i} is missing from the Eads_df database')\n",
    "\n",
    "#print(temp)\n",
    "# Convert {temp} into DataFrame    \n",
    "df_temp_Eads = pd.DataFrame.from_dict(temp_Eads, orient='index')\n",
    "\n",
    "\n",
    "# Concatenate Eads dataframe with probabilities dataframe\n",
    "df_temp = pd.concat([df_temp_Eads,df_temp_probability],axis=1)\n",
    "print(df_temp)\n",
    "# Convert dataframe into numpy array for numerical computations\n",
    "array_temp = df_temp.to_numpy()\n",
    "#print(array_temp)"
   ]
  },
  {
   "cell_type": "code",
   "execution_count": 6,
   "metadata": {},
   "outputs": [],
   "source": [
    "potential = np.linspace(-1,1,100)\n",
    "sz = np.size(potential)\n",
    "theta_tmp = np.zeros((6,sz))\n",
    "\n",
    "for i,u in np.ndenumerate(potential):\n",
    "    for row in array_temp:\n",
    "        tmp = CompetitiveAdsorption(Evec=row,U=u,pH=1,Cl=1,T=298)\n",
    "        theta_tmp[:,i] = theta_tmp[:,i] + tmp\n",
    "#print(theta_tmp)\n",
    "\n",
    "cov_O = theta_tmp[0,:]\n",
    "cov_Cl = theta_tmp[1,:]\n",
    "cov_OH = theta_tmp[2,:]\n",
    "cov_W = theta_tmp[3,:]\n",
    "cov_H = theta_tmp[4,:]\n",
    "cov_M = theta_tmp[5,:]"
   ]
  },
  {
   "cell_type": "code",
   "execution_count": null,
   "metadata": {},
   "outputs": [],
   "source": []
  },
  {
   "cell_type": "code",
   "execution_count": 7,
   "metadata": {},
   "outputs": [
    {
     "data": {
      "image/png": "[encoded data removed]",
      "text/plain": [
       "<Figure size 432x288 with 1 Axes>"
      ]
     },
     "metadata": {
      "needs_background": "light"
     },
     "output_type": "display_data"
    }
   ],
   "source": [
    "plt.plot(potential,cov_O,'-.',label='O')\n",
    "plt.plot(potential,cov_Cl,'-',label='Cl')\n",
    "#plt.plot(potential,cov_OH,label='OH')\n",
    "plt.plot(potential,cov_W,'o-',label='H2O')\n",
    "plt.plot(potential,cov_H,'--',label='H')\n",
    "#plt.plot(potential,cov_M,label='Bare Metal')\n",
    "plt.legend()\n",
    "plt.xlabel('Potential')\n",
    "plt.ylabel('Species Coverage')\n",
    "plt.show()"
   ]
  },
  {
   "cell_type": "code",
   "execution_count": null,
   "metadata": {},
   "outputs": [],
   "source": []
  },
  {
   "cell_type": "code",
   "execution_count": null,
   "metadata": {},
   "outputs": [],
   "source": []
  },
  {
   "cell_type": "code",
   "execution_count": null,
   "metadata": {},
   "outputs": [],
   "source": []
  },
  {
   "cell_type": "code",
   "execution_count": null,
   "metadata": {},
   "outputs": [],
   "source": []
  }
 ],
 "metadata": {
  "kernelspec": {
   "display_name": "Python 3",
   "language": "python",
   "name": "python3"
  },
  "language_info": {
   "codemirror_mode": {
    "name": "ipython",
    "version": 3
   },
   "file_extension": ".py",
   "mimetype": "text/x-python",
   "name": "python",
   "nbconvert_exporter": "python",
   "pygments_lexer": "ipython3",
   "version": "3.7.4"
  }
 },
 "nbformat": 4,
 "nbformat_minor": 2
}
